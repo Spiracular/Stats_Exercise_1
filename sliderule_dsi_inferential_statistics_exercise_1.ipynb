{
 "cells": [
  {
   "cell_type": "markdown",
   "metadata": {},
   "source": [
    "## What is the true normal human body temperature? \n",
    "\n",
    "#### Background\n",
    "\n",
    "The mean normal body temperature was held to be 37$^{\\circ}$C or 98.6$^{\\circ}$F for more than 120 years since it was first conceptualized and reported by Carl Wunderlich in a famous 1868 book. In 1992, this value was revised to 36.8$^{\\circ}$C or 98.2$^{\\circ}$F. \n",
    "\n",
    "#### Exercise\n",
    "In this exercise, you will analyze a dataset of human body temperatures and employ the concepts of hypothesis testing, confidence intervals, and statistical significance.\n",
    "\n",
    "Answer the following questions **in this notebook below and submit to your Github account**. \n",
    "\n",
    "1.  Is the distribution of body temperatures normal? \n",
    "    - Remember that this is a condition for the CLT, and hence the statistical tests we are using, to apply. \n",
    "2.  Is the true population mean really 98.6 degrees F?\n",
    "    - Bring out the one sample hypothesis test! In this situation, is it approriate to apply a z-test or a t-test? How will the result be different?\n",
    "3.  At what temperature should we consider someone's temperature to be \"abnormal\"?\n",
    "    - Start by computing the margin of error and confidence interval.\n",
    "4.  Is there a significant difference between males and females in normal temperature?\n",
    "    - Set up and solve for a two sample hypothesis testing.\n",
    "\n",
    "You can include written notes in notebook cells using Markdown: \n",
    "   - In the control panel at the top, choose Cell > Cell Type > Markdown\n",
    "   - Markdown syntax: http://nestacms.com/docs/creating-content/markdown-cheat-sheet\n",
    "\n",
    "#### Resources\n",
    "\n",
    "+ Information and data sources: http://www.amstat.org/publications/jse/datasets/normtemp.txt, http://www.amstat.org/publications/jse/jse_data_archive.htm\n",
    "+ Markdown syntax: http://nestacms.com/docs/creating-content/markdown-cheat-sheet\n",
    "\n",
    "****"
   ]
  },
  {
   "cell_type": "code",
   "execution_count": 45,
   "metadata": {
    "collapsed": false
   },
   "outputs": [
    {
     "name": "stdout",
     "output_type": "stream",
     "text": [
      "Populating the interactive namespace from numpy and matplotlib\n"
     ]
    }
   ],
   "source": [
    "%pylab inline\n",
    "import pandas as pd\n",
    "import numpy as np\n",
    "import scipy.stats as stats\n",
    "import matplotlib.pyplot as plt\n",
    "import statsmodels.api as sm\n",
    "#Hm... if using statsmodels, be sure to disambiguate name from scipy.stats?"
   ]
  },
  {
   "cell_type": "code",
   "execution_count": 4,
   "metadata": {
    "collapsed": false
   },
   "outputs": [],
   "source": [
    "df = pd.read_csv('data/human_body_temperature.csv')"
   ]
  },
  {
   "cell_type": "code",
   "execution_count": 4,
   "metadata": {
    "collapsed": false
   },
   "outputs": [
    {
     "data": {
      "text/html": [
       "<div>\n",
       "<table border=\"1\" class=\"dataframe\">\n",
       "  <thead>\n",
       "    <tr style=\"text-align: right;\">\n",
       "      <th></th>\n",
       "      <th>temperature</th>\n",
       "      <th>gender</th>\n",
       "      <th>heart_rate</th>\n",
       "    </tr>\n",
       "  </thead>\n",
       "  <tbody>\n",
       "    <tr>\n",
       "      <th>0</th>\n",
       "      <td>99.3</td>\n",
       "      <td>F</td>\n",
       "      <td>68</td>\n",
       "    </tr>\n",
       "    <tr>\n",
       "      <th>1</th>\n",
       "      <td>98.4</td>\n",
       "      <td>F</td>\n",
       "      <td>81</td>\n",
       "    </tr>\n",
       "    <tr>\n",
       "      <th>2</th>\n",
       "      <td>97.8</td>\n",
       "      <td>M</td>\n",
       "      <td>73</td>\n",
       "    </tr>\n",
       "    <tr>\n",
       "      <th>3</th>\n",
       "      <td>99.2</td>\n",
       "      <td>F</td>\n",
       "      <td>66</td>\n",
       "    </tr>\n",
       "    <tr>\n",
       "      <th>4</th>\n",
       "      <td>98.0</td>\n",
       "      <td>F</td>\n",
       "      <td>73</td>\n",
       "    </tr>\n",
       "  </tbody>\n",
       "</table>\n",
       "</div>"
      ],
      "text/plain": [
       "   temperature gender  heart_rate\n",
       "0         99.3      F          68\n",
       "1         98.4      F          81\n",
       "2         97.8      M          73\n",
       "3         99.2      F          66\n",
       "4         98.0      F          73"
      ]
     },
     "execution_count": 4,
     "metadata": {},
     "output_type": "execute_result"
    }
   ],
   "source": [
    "#Exploratory cells\n",
    "df.head()\n",
    "\n",
    "###FUTURE NOTE TO SELF: Review how to upload created functions in Python"
   ]
  },
  {
   "cell_type": "code",
   "execution_count": 14,
   "metadata": {
    "collapsed": false
   },
   "outputs": [
    {
     "data": {
      "text/plain": [
       "130"
      ]
     },
     "execution_count": 14,
     "metadata": {},
     "output_type": "execute_result"
    }
   ],
   "source": [
    "len(df)"
   ]
  },
  {
   "cell_type": "markdown",
   "metadata": {},
   "source": [
    "## Question 1\n",
    "\n",
    "*Is the distribution of temperatures normal?*\n",
    "\n",
    "( CLT = Central Limit Theorem (CLT) )\n",
    "\n",
    "So... properties of a normal distribution that may be worth testing\n",
    "- symetricality? (did not test)\n",
    "- how well it's approximated by a generated normal dist with the same mean and STD\n",
    "- visual confirmation\n",
    "\n",
    "I ended up using visual confirmation (see histograms below), and applying a Shapiro-Wilk test.\n",
    "\n",
    "I interpretted the S-W test in light of the outcomes and p-values associated with a random sample of the same size from the generated normal distribution. After comparing these two, I reached the conclusion that while on the surface the distribution seems approximately normal, the S-W p-value seems to suggest that it's far from a perfect approximation.\n",
    "\n",
    "Some context: Lower S-W values are associated with a less Normal-like distribution, and higher p-values are associated with good fit to a normal distribution. p>0.95 is the relevant highly-significant range here.\n",
    "\n",
    "**From Dataframe data**\n",
    "- Shapiro-Wilk Test Stat:  0.9865770936012268\n",
    "- p-value:  0.233174666762352\n",
    "\n",
    "**Average from 7 simulated samples of size 130**\n",
    "- Shapiro-Wilk Test Stat: 0.99237788575\n",
    "- p-value: 0.685658173902\n",
    "\n",
    "If I wanted to be more thorough, I'd probably try to derive a p-value from the simulated Shapiro-Wilk Test Stats? I wanted to move on to the next question."
   ]
  },
  {
   "cell_type": "code",
   "execution_count": 8,
   "metadata": {
    "collapsed": false
   },
   "outputs": [
    {
     "name": "stdout",
     "output_type": "stream",
     "text": [
      "Mean:  98.24923076923078\n",
      "STD:  0.7303577789050377\n"
     ]
    }
   ],
   "source": [
    "#First things first, lets do basic EDA on this thing.\n",
    "TempMean = mean(df.temperature)\n",
    "TempStd = std(df.temperature)\n",
    "\n",
    "print (\"Mean: \", TempMean)\n",
    "print (\"STD: \", TempStd)"
   ]
  },
  {
   "cell_type": "code",
   "execution_count": 10,
   "metadata": {
    "collapsed": false
   },
   "outputs": [],
   "source": [
    "##Develop a perfect null distribution, and sample from it\n",
    "AllTempNorm = stats.norm(TempMean, TempStd)\n",
    "NormSamp = AllTempNorm.rvs(size=130)"
   ]
  },
  {
   "cell_type": "code",
   "execution_count": 19,
   "metadata": {
    "collapsed": false
   },
   "outputs": [
    {
     "data": {
      "text/plain": [
       "scipy.stats._distn_infrastructure.rv_frozen"
      ]
     },
     "execution_count": 19,
     "metadata": {},
     "output_type": "execute_result"
    }
   ],
   "source": [
    "type(AllTempNorm)"
   ]
  },
  {
   "cell_type": "code",
   "execution_count": 43,
   "metadata": {
    "collapsed": false
   },
   "outputs": [
    {
     "data": {
      "image/png": "[encoded data removed]",
      "text/plain": [
       "<matplotlib.figure.Figure at 0x116653588>"
      ]
     },
     "metadata": {},
     "output_type": "display_data"
    }
   ],
   "source": [
    "##Simple visual confirmation\n",
    "#Sample's Histogram\n",
    "\n",
    "plt.hist(df.temperature, bins=20, range=[95,101])\n",
    "plt.axvline(TempMean, linewidth=2, color='yellow')\n",
    "plt.title('Distribution of All Temperatures')\n",
    "plt.xlabel('Temperature (Farenheit)')\n",
    "plt.ylabel('Number')\n",
    "plt.show()\n",
    "\n",
    "#It actually looks like it could be normal or lognormal-ish to me.\n",
    "#But with a pretty small sample size that leaves a lot of bumpiness."
   ]
  },
  {
   "cell_type": "code",
   "execution_count": 17,
   "metadata": {
    "collapsed": false
   },
   "outputs": [
    {
     "data": {
      "image/png": "[encoded data removed]",
      "text/plain": [
       "<matplotlib.figure.Figure at 0x1165ac630>"
      ]
     },
     "metadata": {},
     "output_type": "display_data"
    }
   ],
   "source": [
    "#Generated Normal Dist Histogram\n",
    "NormSamp = AllTempNorm.rvs(size=130)\n",
    "plt.hist(NormSamp, bins=20, range = [95,101])\n",
    "plt.axvline(NormSamp.mean(), linewidth=2, color='gray')\n",
    "plt.title('Sample Normal Distribution')\n",
    "plt.xlabel('Temperature (Farenheit)')\n",
    "plt.ylabel('Number')\n",
    "plt.show()\n",
    "#When I run this multiple times, the outputs are pretty variable in appearance."
   ]
  },
  {
   "cell_type": "code",
   "execution_count": 26,
   "metadata": {
    "collapsed": true
   },
   "outputs": [],
   "source": [
    "?plt.hist(bins=20, range=[], histtype='step', color='red')"
   ]
  },
  {
   "cell_type": "code",
   "execution_count": 6,
   "metadata": {
    "collapsed": false
   },
   "outputs": [
    {
     "name": "stdout",
     "output_type": "stream",
     "text": [
      "Shapiro-Wilk Test Stat:  0.9865770936012268\n",
      "p-value:  0.233174666762352\n"
     ]
    }
   ],
   "source": [
    "####Shapiro-Wilk Test for Normality####\n",
    "#So, I want to understand how this test works mathematically, then figure out how to apply it.\n",
    "#Then, I want to verify that the generated normal dist. passes, and check if the real one makes it.\n",
    "##(ideally I'd be testing multiple samples of norm and getting a p-val)\n",
    "#\n",
    "\n",
    "\n",
    "SWStat = stats.shapiro(df.temperature)\n",
    "\n",
    "stat_1, stat_2 = SWStat\n",
    "\n",
    "print ('Shapiro-Wilk Test Stat: ', stat_1)\n",
    "print ('p-value: ', stat_2)"
   ]
  },
  {
   "cell_type": "markdown",
   "metadata": {},
   "source": [
    "From which one can conclude from this that the distribution is somewhat likely to be normally distributed? Not in the significant range (p < 0.05)...\n",
    "\n",
    "Now I will run a sanity check: Does the generated normal distribution have SWStats that pass the p-value test? By how much?"
   ]
  },
  {
   "cell_type": "code",
   "execution_count": 12,
   "metadata": {
    "collapsed": true
   },
   "outputs": [],
   "source": [
    "StatsTrack = []"
   ]
  },
  {
   "cell_type": "code",
   "execution_count": 20,
   "metadata": {
    "collapsed": false
   },
   "outputs": [
    {
     "name": "stdout",
     "output_type": "stream",
     "text": [
      "Shapiro-Wilk Test Stat:  0.9933740496635437\n",
      "p-value:  0.8051061034202576\n"
     ]
    }
   ],
   "source": [
    "NormSamp = AllTempNorm.rvs(size=130)\n",
    "\n",
    "SWStat = stats.shapiro(NormSamp)\n",
    "\n",
    "stat_1, stat_2 = SWStat\n",
    "\n",
    "print ('Shapiro-Wilk Test Stat: ', stat_1)\n",
    "print ('p-value: ', stat_2)\n",
    "StatsTrack.append( (stat_1, stat_2) )"
   ]
  },
  {
   "cell_type": "code",
   "execution_count": 27,
   "metadata": {
    "collapsed": false
   },
   "outputs": [
    {
     "data": {
      "text/plain": [
       "[(0.997215747833252, 0.9975288510322571),\n",
       " (0.9934688806533813, 0.8139231204986572),\n",
       " (0.991310715675354, 0.5987163186073303),\n",
       " (0.9883346557617188, 0.3399249315261841),\n",
       " (0.9891340732574463, 0.40015989542007446),\n",
       " (0.9938070774078369, 0.8442479968070984),\n",
       " (0.9933740496635437, 0.8051061034202576)]"
      ]
     },
     "execution_count": 27,
     "metadata": {},
     "output_type": "execute_result"
    }
   ],
   "source": [
    "StatsTrack"
   ]
  },
  {
   "cell_type": "code",
   "execution_count": 26,
   "metadata": {
    "collapsed": false
   },
   "outputs": [
    {
     "name": "stdout",
     "output_type": "stream",
     "text": [
      "0.99237788575\n",
      "0.685658173902\n"
     ]
    }
   ],
   "source": [
    "TestStat, PVal = zip(*StatsTrack)\n",
    "print (mean(TestStat))\n",
    "print (mean(PVal))"
   ]
  },
  {
   "cell_type": "markdown",
   "metadata": {},
   "source": [
    "If high S-W Test Stat values are associated with high p-values, then I may in fact be aiming for p>0.95? Noted.\n",
    "\n",
    "Okay... but the generated normal distribution does not tend to be in the significant range for this test either! I'll test it out with a much larger sample, and check if that remains true...\n",
    "\n",
    "Still not in the significant range for sample size of 400! I think this test is intended to be used with much larger samples, in excess of 1000?"
   ]
  },
  {
   "cell_type": "code",
   "execution_count": 29,
   "metadata": {
    "collapsed": true
   },
   "outputs": [],
   "source": [
    "StatsTrack2 = []"
   ]
  },
  {
   "cell_type": "code",
   "execution_count": 37,
   "metadata": {
    "collapsed": false
   },
   "outputs": [
    {
     "name": "stdout",
     "output_type": "stream",
     "text": [
      "Shapiro-Wilk Test Stat:  0.994770348072052\n",
      "p-value:  0.19292505085468292\n"
     ]
    }
   ],
   "source": [
    "NormSamp = AllTempNorm.rvs(size=400)\n",
    "\n",
    "SWStat = stats.shapiro(NormSamp)\n",
    "\n",
    "stat_1, stat_2 = SWStat\n",
    "\n",
    "print ('Shapiro-Wilk Test Stat: ', stat_1)\n",
    "print ('p-value: ', stat_2)\n",
    "StatsTrack2.append( (stat_1, stat_2) )"
   ]
  },
  {
   "cell_type": "code",
   "execution_count": 39,
   "metadata": {
    "collapsed": false
   },
   "outputs": [
    {
     "data": {
      "text/plain": [
       "[(0.9963046312332153, 0.4836970865726471),\n",
       " (0.9971535205841064, 0.7191028594970703),\n",
       " (0.996793806552887, 0.6167654991149902),\n",
       " (0.9957829117774963, 0.36126020550727844),\n",
       " (0.996711015701294, 0.5934187173843384),\n",
       " (0.994857668876648, 0.20409244298934937),\n",
       " (0.994770348072052, 0.19292505085468292)]"
      ]
     },
     "execution_count": 39,
     "metadata": {},
     "output_type": "execute_result"
    }
   ],
   "source": [
    "StatsTrack2"
   ]
  },
  {
   "cell_type": "code",
   "execution_count": 38,
   "metadata": {
    "collapsed": false
   },
   "outputs": [
    {
     "name": "stdout",
     "output_type": "stream",
     "text": [
      "0.996053414685\n",
      "0.453037408846\n"
     ]
    }
   ],
   "source": [
    "TestStat, PVal = zip(*StatsTrack2)\n",
    "print (mean(TestStat))\n",
    "print (mean(PVal))"
   ]
  },
  {
   "cell_type": "code",
   "execution_count": 46,
   "metadata": {
    "collapsed": false
   },
   "outputs": [
    {
     "name": "stdout",
     "output_type": "stream",
     "text": [
      "Shapiro-Wilk Test Stat:  0.965596079826355\n",
      "p-value:  0.002212501596659422\n"
     ]
    }
   ],
   "source": [
    "#Check if something completely off (Uniform Dist) generates low or high values\n",
    "#A: It generates low\n",
    "UniStat = stats.uniform()\n",
    "UniSamp = UniStat.rvs(130)\n",
    "\n",
    "\n",
    "USWStat = stats.shapiro(UniSamp)\n",
    "\n",
    "stat_1, stat_2 = USWStat\n",
    "\n",
    "print ('Shapiro-Wilk Test Stat: ', stat_1)\n",
    "print ('p-value: ', stat_2)"
   ]
  },
  {
   "cell_type": "markdown",
   "metadata": {},
   "source": [
    "## Question 2\n",
    "\n",
    "*Is the true population mean 98.6? Do a sample hypothesis test.*\n",
    "\n",
    "There are more than 30 samples (130), so you definitely want to use a z-test.\n",
    "\n",
    "Z- and T-tests assume different distributions. Z assumes a normal dist, while T assumes a T-dist.\n",
    "\n"
   ]
  },
  {
   "cell_type": "code",
   "execution_count": 20,
   "metadata": {
    "collapsed": false
   },
   "outputs": [
    {
     "data": {
      "text/plain": [
       "130"
      ]
     },
     "execution_count": 20,
     "metadata": {},
     "output_type": "execute_result"
    }
   ],
   "source": [
    "#Question 2\n",
    "len(df)"
   ]
  },
  {
   "cell_type": "code",
   "execution_count": null,
   "metadata": {
    "collapsed": true
   },
   "outputs": [],
   "source": [
    "#One way to accomplish this is to "
   ]
  },
  {
   "cell_type": "code",
   "execution_count": null,
   "metadata": {
    "collapsed": true
   },
   "outputs": [],
   "source": []
  },
  {
   "cell_type": "markdown",
   "metadata": {
    "collapsed": true
   },
   "source": [
    "## Question 4\n",
    "\n",
    "*Are male and female means significantly different?*\n",
    "\n",
    "So, the null hypothesis is that female and male temperature means are not significantly different from the overall sample's distribution.\n",
    "\n",
    "p-value:  0.535624989949\n",
    "\n",
    "Yeah, not a significantly different mean."
   ]
  },
  {
   "cell_type": "code",
   "execution_count": 57,
   "metadata": {
    "collapsed": false
   },
   "outputs": [
    {
     "name": "stdout",
     "output_type": "stream",
     "text": [
      "Overall Mean:  98.24923076923078\n",
      "Female Mean:   98.39384615384613\n",
      "Male Mean:     98.1046153846154\n",
      "Female p-value:  0.535624989949\n",
      "Male p-value:    0.535624989949\n"
     ]
    }
   ],
   "source": [
    "#Question 4\n",
    "FemVal = FemStats.mean()\n",
    "MenVal = MenStats.mean()\n",
    "print (\"Overall Mean: \", df.temperature.mean())\n",
    "print (\"Female Mean:  \", FemVal)\n",
    "print (\"Male Mean:    \", MenVal)\n",
    "print (\"Female p-value: \", AllTempNorm.pdf(FemVal))\n",
    "print (\"Male p-value:   \", AllTempNorm.pdf(MenVal))\n",
    "#Oh, right, if the sample is half-male and half-female, of course you get the same p-val."
   ]
  },
  {
   "cell_type": "code",
   "execution_count": 61,
   "metadata": {
    "collapsed": false
   },
   "outputs": [
    {
     "data": {
      "text/plain": [
       "0.030873537718312024"
      ]
     },
     "execution_count": 61,
     "metadata": {},
     "output_type": "execute_result"
    }
   ],
   "source": [
    "#Quick verification that extremely low and high values produce small pdfs... (they do)\n",
    "AllTempNorm.pdf(100)"
   ]
  },
  {
   "cell_type": "code",
   "execution_count": 47,
   "metadata": {
    "collapsed": false
   },
   "outputs": [
    {
     "data": {
      "image/png": "[encoded data removed]",
      "text/plain": [
       "<matplotlib.figure.Figure at 0x116542ef0>"
      ]
     },
     "metadata": {},
     "output_type": "display_data"
    },
    {
     "data": {
      "image/png": "[encoded data removed]",
      "text/plain": [
       "<matplotlib.figure.Figure at 0x1172fa780>"
      ]
     },
     "metadata": {},
     "output_type": "display_data"
    }
   ],
   "source": [
    "#Female vs. Male Temperature: Histogram Plots\n",
    "FemStats = df[df.gender=='F'].temperature\n",
    "MenStats = df[df.gender=='M'].temperature\n",
    "\n",
    "plt.hist(FemStats, bins=20, range=[95,101], histtype='step', color='red')\n",
    "plt.axvline(FemStats.mean(), linewidth=2, color='k', linestyle='dashed')\n",
    "plt.title('Female Temperature Histogram', color='r')\n",
    "plt.xlabel('Temperature (Farenheit)')\n",
    "plt.ylabel('Number')\n",
    "plt.show()\n",
    "\n",
    "plt.hist(MenStats, bins=20, range=[95,101], histtype='step', color='blue')\n",
    "plt.axvline(MenStats.mean(), linewidth=2, color='k', linestyle='dashed')\n",
    "plt.title('Male Temperature Histogram', color='b')\n",
    "plt.xlabel('Temperature (Farenheit)')\n",
    "plt.ylabel('Number')\n",
    "plt.show()"
   ]
  }
 ],
 "metadata": {
  "kernelspec": {
   "display_name": "Python 3",
   "language": "python",
   "name": "python3"
  },
  "language_info": {
   "codemirror_mode": {
    "name": "ipython",
    "version": 3
   },
   "file_extension": ".py",
   "mimetype": "text/x-python",
   "name": "python",
   "nbconvert_exporter": "python",
   "pygments_lexer": "ipython3",
   "version": "3.5.1"
  }
 },
 "nbformat": 4,
 "nbformat_minor": 0
}
